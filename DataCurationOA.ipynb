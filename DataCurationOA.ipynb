{
 "cells": [
  {
   "cell_type": "code",
   "execution_count": 4,
   "id": "73e62ba9-f177-4463-b099-8c31d7055af2",
   "metadata": {},
   "outputs": [
    {
     "name": "stdout",
     "output_type": "stream",
     "text": [
      "Requirement already satisfied: numpy in c:\\users\\alicoma\\appdata\\local\\anaconda3\\lib\\site-packages (1.26.4)\n",
      "Note: you may need to restart the kernel to use updated packages.\n"
     ]
    }
   ],
   "source": [
    "pip install numpy"
   ]
  },
  {
   "cell_type": "code",
   "execution_count": 90,
   "id": "69879545-575b-485f-ae4a-cdf99925b6b0",
   "metadata": {
    "scrolled": true
   },
   "outputs": [
    {
     "name": "stdout",
     "output_type": "stream",
     "text": [
      "<class 'pandas.core.frame.DataFrame'>\n",
      "RangeIndex: 75680 entries, 0 to 75679\n",
      "Data columns (total 10 columns):\n",
      " #   Column                                                           Non-Null Count  Dtype \n",
      "---  ------                                                           --------------  ----- \n",
      " 0   Geographic Area Name (NAME)                                      75680 non-null  object\n",
      " 1   2012 NAICS code (NAICS2012)                                      75680 non-null  object\n",
      " 2   Meaning of NAICS code (NAICS2012_LABEL)                          75680 non-null  object\n",
      " 3   Meaning of Legal form of organization code (LFO_LABEL)           75680 non-null  object\n",
      " 4   Meaning of Employment size of establishments (EMPSZES_LABEL)     75680 non-null  object\n",
      " 5   Year (YEAR)                                                      75680 non-null  int64 \n",
      " 6   Number of establishments (ESTAB)                                 75680 non-null  object\n",
      " 7   Paid employees for pay period including March 12 (number) (EMP)  75680 non-null  object\n",
      " 8   First-quarter payroll ($1,000) (PAYQTR1)                         75680 non-null  object\n",
      " 9   Annual payroll ($1,000) (PAYANN)                                 75680 non-null  object\n",
      "dtypes: int64(1), object(9)\n",
      "memory usage: 5.8+ MB\n"
     ]
    }
   ],
   "source": [
    "import pandas as pd\n",
    "\n",
    "df1 = pd.read_csv(r'C:\\Users\\alicoma\\Documents\\portfolio\\Geography.csv')\n",
    "df2 = pd.read_csv(r'C:\\Users\\alicoma\\Documents\\portfolio\\FBI.csv')\n",
    "\n",
    "df1.info()"
   ]
  },
  {
   "cell_type": "code",
   "execution_count": 83,
   "id": "1f747032-1016-47b9-ac2f-4bcb32c21a83",
   "metadata": {},
   "outputs": [
    {
     "name": "stdout",
     "output_type": "stream",
     "text": [
      "<class 'pandas.core.frame.DataFrame'>\n",
      "Index: 66 entries, 2 to 197\n",
      "Data columns (total 23 columns):\n",
      " #   Column                                Non-Null Count  Dtype  \n",
      "---  ------                                --------------  -----  \n",
      " 0   Area                                  66 non-null     object \n",
      " 1   Year                                  66 non-null     float64\n",
      " 2   Population2                           66 non-null     float64\n",
      " 3   Violent crime3                        66 non-null     float64\n",
      " 4   Unnamed: 4                            66 non-null     object \n",
      " 5   Murder and nonnegligent manslaughter  66 non-null     float64\n",
      " 6   Unnamed: 6                            66 non-null     object \n",
      " 7   Rape (revised definition)4            66 non-null     float64\n",
      " 8   Unnamed: 8                            66 non-null     object \n",
      " 9   Rape (legacy definition)5             66 non-null     float64\n",
      " 10  Unnamed: 10                           66 non-null     object \n",
      " 11  Robbery                               66 non-null     float64\n",
      " 12  Unnamed: 12                           66 non-null     object \n",
      " 13  Aggravated assault                    66 non-null     float64\n",
      " 14  Unnamed: 14                           66 non-null     object \n",
      " 15  Property crime                        66 non-null     float64\n",
      " 16  Unnamed: 16                           66 non-null     object \n",
      " 17  Burglary                              66 non-null     float64\n",
      " 18  Unnamed: 18                           66 non-null     object \n",
      " 19  Larceny-theft                         66 non-null     float64\n",
      " 20  Unnamed: 20                           66 non-null     object \n",
      " 21  Motor vehicle theft                   66 non-null     float64\n",
      " 22  Unnamed: 22                           66 non-null     object \n",
      "dtypes: float64(12), object(11)\n",
      "memory usage: 12.4+ KB\n"
     ]
    }
   ],
   "source": [
    "import pandas as pd\n",
    "\n",
    "# Load the data\n",
    "df2 = pd.read_csv(r'C:\\Users\\alicoma\\Documents\\portfolio\\FBI.csv')\n",
    "\n",
    "# Step 1: Clean column names (remove newlines, spaces)\n",
    "df2.columns = df2.columns.str.replace('\\n', ' ').str.strip()\n",
    "\n",
    "# Step 2: Drop columns with all NaN values\n",
    "df2 = df2.dropna(axis=1, how='all')\n",
    "\n",
    "# Step 3: Convert necessary columns to numeric (e.g., population, crime data columns)\n",
    "columns_to_convert_df2 = [\n",
    "    'Population2', 'Violent crime3', 'Murder and nonnegligent manslaughter', \n",
    "    'Rape (revised definition)4', 'Rape (legacy definition)5', 'Robbery', \n",
    "    'Aggravated assault', 'Property crime', 'Burglary', 'Larceny-theft', 'Motor vehicle theft'\n",
    "]\n",
    "\n",
    "# Convert columns to numeric after removing commas\n",
    "for col in columns_to_convert_df2:\n",
    "    df2[col] = pd.to_numeric(df2[col].str.replace(',', ''), errors='coerce')\n",
    "\n",
    "# Step 4: Clean the 'Year' column and convert to numeric\n",
    "df2['Year'] = pd.to_numeric(df2['Year'], errors='coerce')\n",
    "\n",
    "# Step 5: Handle missing values in 'Area' column\n",
    "# Fill NaN values in 'Area' column using bfikk\n",
    "df2['Area'] = df2['Area'].bfill  # Forward fill missing 'Area' values\n",
    "\n",
    "# Step 6: Filter the data for the year 2016\n",
    "df2_2016 = df2[df2['Year'] == 2016]\n",
    "\n",
    "# Step 7: Remove rows with NaN in critical columns like 'Area' (in case there's still missing data after filling)\n",
    "df2_2016 = df2_2016.dropna(subset=['Area'])\n",
    "\n",
    "\n",
    "df2_2016.info()"
   ]
  },
  {
   "cell_type": "code",
   "execution_count": null,
   "id": "2e100132-74c9-4353-bbf5-750ab16e612b",
   "metadata": {},
   "outputs": [],
   "source": []
  }
 ],
 "metadata": {
  "kernelspec": {
   "display_name": "Python 3 (ipykernel)",
   "language": "python",
   "name": "python3"
  },
  "language_info": {
   "codemirror_mode": {
    "name": "ipython",
    "version": 3
   },
   "file_extension": ".py",
   "mimetype": "text/x-python",
   "name": "python",
   "nbconvert_exporter": "python",
   "pygments_lexer": "ipython3",
   "version": "3.12.7"
  }
 },
 "nbformat": 4,
 "nbformat_minor": 5
}
